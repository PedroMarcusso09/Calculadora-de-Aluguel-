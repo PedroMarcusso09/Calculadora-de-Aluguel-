{
  "nbformat": 4,
  "nbformat_minor": 0,
  "metadata": {
    "colab": {
      "name": "Untitled11.ipynb",
      "provenance": [],
      "authorship_tag": "ABX9TyOaGmBlYMfOdwNXOzEumbmv",
      "include_colab_link": true
    },
    "kernelspec": {
      "name": "python3",
      "display_name": "Python 3"
    },
    "language_info": {
      "name": "python"
    }
  },
  "cells": [
    {
      "cell_type": "markdown",
      "metadata": {
        "id": "view-in-github",
        "colab_type": "text"
      },
      "source": [
        "<a href=\"https://colab.research.google.com/github/PedroMarcusso09/Calculadora-de-Aluguel-/blob/main/Coleta%20de%20dados.ipynb\" target=\"_parent\"><img src=\"https://colab.research.google.com/assets/colab-badge.svg\" alt=\"Open In Colab\"/></a>"
      ]
    },
    {
      "cell_type": "markdown",
      "source": [
        "# Tarefa: Calculadora de Aluguel - Coleta de Dados"
      ],
      "metadata": {
        "id": "DxOUvk8jQNRS"
      }
    },
    {
      "cell_type": "code",
      "source": [
        "# Bibliotecas\n",
        "import requests\n",
        "from bs4 import BeautifulSoup\n",
        "from time import sleep\n",
        "import pandas as pd"
      ],
      "metadata": {
        "id": "dY9yt37BQhyG"
      },
      "execution_count": 9,
      "outputs": []
    },
    {
      "cell_type": "code",
      "source": [
        "# Variáveis\n",
        "url_ml = 'https://imoveis.mercadolivre.com.br/apartamentos/aluguel/sao-paulo/'\n",
        "zonas = ['norte', 'sul', 'leste', 'oeste']\n",
        "paginas = ['', '_Desde_49', '_Desde_97', '_Desde_145', '_Desde_193']\n",
        "req = requests.get(url_ml).content"
      ],
      "metadata": {
        "id": "-myctNY7QxYB"
      },
      "execution_count": 10,
      "outputs": []
    },
    {
      "cell_type": "code",
      "source": [
        "req = requests.get(url_ml).content"
      ],
      "metadata": {
        "id": "zoKxiDD8Q9yl"
      },
      "execution_count": 11,
      "outputs": []
    },
    {
      "cell_type": "code",
      "source": [
        "# Funcão para coletar e buscar dados, para depois ir salvando em listas\n",
        "def coletando_dados(url, zona):\n",
        "\n",
        "  req = requests.get(url).content\n",
        "  sopa = BeautifulSoup(req)\n",
        "\n",
        "  result_set_precos = sopa.find_all('span', {'class': 'price-tag-fraction'})\n",
        "  result_set_area_quartos = sopa.find_all('ul', class_='ui-search-card-attributes ui-search-item__group__element')\n",
        "  result_set_enderecos = sopa.find_all('span', class_='ui-search-item__group__element ui-search-item__location')\n",
        "\n",
        "  lista_precos = []\n",
        "  lista_area_quartos = []\n",
        "  lista_enderecos = []\n",
        "  lista_zonas = []\n",
        "\n",
        "  for preco, area_quarto, endereco in zip(result_set_precos, result_set_area_quartos, result_set_enderecos):\n",
        "    lista_precos.append(preco.text)\n",
        "    lista_area_quartos.append(area_quarto.text)\n",
        "    lista_enderecos.append(endereco.text)\n",
        "    lista_zonas.append(zona)\n",
        "    \n",
        "  dados = {'zonas': lista_zonas,\n",
        "           'areas_quartos': lista_area_quartos,\n",
        "           'enderecos': lista_enderecos,\n",
        "           'precos': lista_precos}\n",
        "\n",
        "  df = pd.DataFrame(dados)\n",
        "  return df"
      ],
      "metadata": {
        "id": "2Zh-bjwwRFj5"
      },
      "execution_count": 12,
      "outputs": []
    },
    {
      "cell_type": "code",
      "source": [
        "# Coletar dados\n",
        "lista_dados = []\n",
        "\n",
        "for zona in zonas:\n",
        "  for pagina in paginas:\n",
        "    url = f'https://imoveis.mercadolivre.com.br/apartamentos/aluguel/sao-paulo/sao-paulo-zona-{zona}/{pagina}'\n",
        "    print('Coletando dados de', url)\n",
        "    df = coletando_dados(url, zona)\n",
        "    lista_dados.append(df)\n",
        "    sleep(2)"
      ],
      "metadata": {
        "colab": {
          "base_uri": "https://localhost:8080/"
        },
        "id": "cZLZZQJDRIyZ",
        "outputId": "c00a6c59-01c7-4718-a4a2-afe0dc73d3d2"
      },
      "execution_count": 13,
      "outputs": [
        {
          "output_type": "stream",
          "name": "stdout",
          "text": [
            "Coletando dados de https://imoveis.mercadolivre.com.br/apartamentos/aluguel/sao-paulo/sao-paulo-zona-norte/\n",
            "Coletando dados de https://imoveis.mercadolivre.com.br/apartamentos/aluguel/sao-paulo/sao-paulo-zona-norte/_Desde_49\n",
            "Coletando dados de https://imoveis.mercadolivre.com.br/apartamentos/aluguel/sao-paulo/sao-paulo-zona-norte/_Desde_97\n",
            "Coletando dados de https://imoveis.mercadolivre.com.br/apartamentos/aluguel/sao-paulo/sao-paulo-zona-norte/_Desde_145\n",
            "Coletando dados de https://imoveis.mercadolivre.com.br/apartamentos/aluguel/sao-paulo/sao-paulo-zona-norte/_Desde_193\n",
            "Coletando dados de https://imoveis.mercadolivre.com.br/apartamentos/aluguel/sao-paulo/sao-paulo-zona-sul/\n",
            "Coletando dados de https://imoveis.mercadolivre.com.br/apartamentos/aluguel/sao-paulo/sao-paulo-zona-sul/_Desde_49\n",
            "Coletando dados de https://imoveis.mercadolivre.com.br/apartamentos/aluguel/sao-paulo/sao-paulo-zona-sul/_Desde_97\n",
            "Coletando dados de https://imoveis.mercadolivre.com.br/apartamentos/aluguel/sao-paulo/sao-paulo-zona-sul/_Desde_145\n",
            "Coletando dados de https://imoveis.mercadolivre.com.br/apartamentos/aluguel/sao-paulo/sao-paulo-zona-sul/_Desde_193\n",
            "Coletando dados de https://imoveis.mercadolivre.com.br/apartamentos/aluguel/sao-paulo/sao-paulo-zona-leste/\n",
            "Coletando dados de https://imoveis.mercadolivre.com.br/apartamentos/aluguel/sao-paulo/sao-paulo-zona-leste/_Desde_49\n",
            "Coletando dados de https://imoveis.mercadolivre.com.br/apartamentos/aluguel/sao-paulo/sao-paulo-zona-leste/_Desde_97\n",
            "Coletando dados de https://imoveis.mercadolivre.com.br/apartamentos/aluguel/sao-paulo/sao-paulo-zona-leste/_Desde_145\n",
            "Coletando dados de https://imoveis.mercadolivre.com.br/apartamentos/aluguel/sao-paulo/sao-paulo-zona-leste/_Desde_193\n",
            "Coletando dados de https://imoveis.mercadolivre.com.br/apartamentos/aluguel/sao-paulo/sao-paulo-zona-oeste/\n",
            "Coletando dados de https://imoveis.mercadolivre.com.br/apartamentos/aluguel/sao-paulo/sao-paulo-zona-oeste/_Desde_49\n",
            "Coletando dados de https://imoveis.mercadolivre.com.br/apartamentos/aluguel/sao-paulo/sao-paulo-zona-oeste/_Desde_97\n",
            "Coletando dados de https://imoveis.mercadolivre.com.br/apartamentos/aluguel/sao-paulo/sao-paulo-zona-oeste/_Desde_145\n",
            "Coletando dados de https://imoveis.mercadolivre.com.br/apartamentos/aluguel/sao-paulo/sao-paulo-zona-oeste/_Desde_193\n"
          ]
        }
      ]
    },
    {
      "cell_type": "code",
      "source": [
        "df_dados = pd.concat(lista_dados)\n",
        "df_dados"
      ],
      "metadata": {
        "id": "w19rMymxBH3p",
        "outputId": "b7b3556d-f362-408a-8a25-a992479fae8a",
        "colab": {
          "base_uri": "https://localhost:8080/",
          "height": 424
        }
      },
      "execution_count": 14,
      "outputs": [
        {
          "output_type": "execute_result",
          "data": {
            "text/plain": [
              "    zonas                areas_quartos  \\\n",
              "0   norte   58 m² construídos2 quartos   \n",
              "1   norte  186 m² construídos3 quartos   \n",
              "2   norte   80 m² construídos3 quartos   \n",
              "3   norte   50 m² construídos2 quartos   \n",
              "4   norte   56 m² construídos2 quartos   \n",
              "..    ...                          ...   \n",
              "43  oeste    25 m² construídos1 quarto   \n",
              "44  oeste    40 m² construídos1 quarto   \n",
              "45  oeste   48 m² construídos2 quartos   \n",
              "46  oeste   102 m² construídos1 quarto   \n",
              "47  oeste    44 m² construídos1 quarto   \n",
              "\n",
              "                                            enderecos  precos  \n",
              "0     Vila Primavera, São Paulo Zona Norte, São Paulo   1.200  \n",
              "1   Jardim São Paulo, São Paulo Zona Norte, São Paulo   3.100  \n",
              "2     Vila Primavera, São Paulo Zona Norte, São Paulo   3.300  \n",
              "3           Mandaqui, São Paulo Zona Norte, São Paulo   1.550  \n",
              "4     Vila Primavera, São Paulo Zona Norte, São Paulo   1.200  \n",
              "..                                                ...     ...  \n",
              "43  Jardim Paulistano, São Paulo Zona Oeste, São P...   2.759  \n",
              "44    Cidade Moncoes, São Paulo Zona Oeste, São Paulo   3.200  \n",
              "45    Cidade Moncoes, São Paulo Zona Oeste, São Paulo   1.800  \n",
              "46         Pinheiros, São Paulo Zona Oeste, São Paulo  10.000  \n",
              "47    Cidade Moncoes, São Paulo Zona Oeste, São Paulo   2.100  \n",
              "\n",
              "[960 rows x 4 columns]"
            ],
            "text/html": [
              "\n",
              "  <div id=\"df-4d92ded9-fdb6-4d22-83e3-2e2e94c281c2\">\n",
              "    <div class=\"colab-df-container\">\n",
              "      <div>\n",
              "<style scoped>\n",
              "    .dataframe tbody tr th:only-of-type {\n",
              "        vertical-align: middle;\n",
              "    }\n",
              "\n",
              "    .dataframe tbody tr th {\n",
              "        vertical-align: top;\n",
              "    }\n",
              "\n",
              "    .dataframe thead th {\n",
              "        text-align: right;\n",
              "    }\n",
              "</style>\n",
              "<table border=\"1\" class=\"dataframe\">\n",
              "  <thead>\n",
              "    <tr style=\"text-align: right;\">\n",
              "      <th></th>\n",
              "      <th>zonas</th>\n",
              "      <th>areas_quartos</th>\n",
              "      <th>enderecos</th>\n",
              "      <th>precos</th>\n",
              "    </tr>\n",
              "  </thead>\n",
              "  <tbody>\n",
              "    <tr>\n",
              "      <th>0</th>\n",
              "      <td>norte</td>\n",
              "      <td>58 m² construídos2 quartos</td>\n",
              "      <td>Vila Primavera, São Paulo Zona Norte, São Paulo</td>\n",
              "      <td>1.200</td>\n",
              "    </tr>\n",
              "    <tr>\n",
              "      <th>1</th>\n",
              "      <td>norte</td>\n",
              "      <td>186 m² construídos3 quartos</td>\n",
              "      <td>Jardim São Paulo, São Paulo Zona Norte, São Paulo</td>\n",
              "      <td>3.100</td>\n",
              "    </tr>\n",
              "    <tr>\n",
              "      <th>2</th>\n",
              "      <td>norte</td>\n",
              "      <td>80 m² construídos3 quartos</td>\n",
              "      <td>Vila Primavera, São Paulo Zona Norte, São Paulo</td>\n",
              "      <td>3.300</td>\n",
              "    </tr>\n",
              "    <tr>\n",
              "      <th>3</th>\n",
              "      <td>norte</td>\n",
              "      <td>50 m² construídos2 quartos</td>\n",
              "      <td>Mandaqui, São Paulo Zona Norte, São Paulo</td>\n",
              "      <td>1.550</td>\n",
              "    </tr>\n",
              "    <tr>\n",
              "      <th>4</th>\n",
              "      <td>norte</td>\n",
              "      <td>56 m² construídos2 quartos</td>\n",
              "      <td>Vila Primavera, São Paulo Zona Norte, São Paulo</td>\n",
              "      <td>1.200</td>\n",
              "    </tr>\n",
              "    <tr>\n",
              "      <th>...</th>\n",
              "      <td>...</td>\n",
              "      <td>...</td>\n",
              "      <td>...</td>\n",
              "      <td>...</td>\n",
              "    </tr>\n",
              "    <tr>\n",
              "      <th>43</th>\n",
              "      <td>oeste</td>\n",
              "      <td>25 m² construídos1 quarto</td>\n",
              "      <td>Jardim Paulistano, São Paulo Zona Oeste, São P...</td>\n",
              "      <td>2.759</td>\n",
              "    </tr>\n",
              "    <tr>\n",
              "      <th>44</th>\n",
              "      <td>oeste</td>\n",
              "      <td>40 m² construídos1 quarto</td>\n",
              "      <td>Cidade Moncoes, São Paulo Zona Oeste, São Paulo</td>\n",
              "      <td>3.200</td>\n",
              "    </tr>\n",
              "    <tr>\n",
              "      <th>45</th>\n",
              "      <td>oeste</td>\n",
              "      <td>48 m² construídos2 quartos</td>\n",
              "      <td>Cidade Moncoes, São Paulo Zona Oeste, São Paulo</td>\n",
              "      <td>1.800</td>\n",
              "    </tr>\n",
              "    <tr>\n",
              "      <th>46</th>\n",
              "      <td>oeste</td>\n",
              "      <td>102 m² construídos1 quarto</td>\n",
              "      <td>Pinheiros, São Paulo Zona Oeste, São Paulo</td>\n",
              "      <td>10.000</td>\n",
              "    </tr>\n",
              "    <tr>\n",
              "      <th>47</th>\n",
              "      <td>oeste</td>\n",
              "      <td>44 m² construídos1 quarto</td>\n",
              "      <td>Cidade Moncoes, São Paulo Zona Oeste, São Paulo</td>\n",
              "      <td>2.100</td>\n",
              "    </tr>\n",
              "  </tbody>\n",
              "</table>\n",
              "<p>960 rows × 4 columns</p>\n",
              "</div>\n",
              "      <button class=\"colab-df-convert\" onclick=\"convertToInteractive('df-4d92ded9-fdb6-4d22-83e3-2e2e94c281c2')\"\n",
              "              title=\"Convert this dataframe to an interactive table.\"\n",
              "              style=\"display:none;\">\n",
              "        \n",
              "  <svg xmlns=\"http://www.w3.org/2000/svg\" height=\"24px\"viewBox=\"0 0 24 24\"\n",
              "       width=\"24px\">\n",
              "    <path d=\"M0 0h24v24H0V0z\" fill=\"none\"/>\n",
              "    <path d=\"M18.56 5.44l.94 2.06.94-2.06 2.06-.94-2.06-.94-.94-2.06-.94 2.06-2.06.94zm-11 1L8.5 8.5l.94-2.06 2.06-.94-2.06-.94L8.5 2.5l-.94 2.06-2.06.94zm10 10l.94 2.06.94-2.06 2.06-.94-2.06-.94-.94-2.06-.94 2.06-2.06.94z\"/><path d=\"M17.41 7.96l-1.37-1.37c-.4-.4-.92-.59-1.43-.59-.52 0-1.04.2-1.43.59L10.3 9.45l-7.72 7.72c-.78.78-.78 2.05 0 2.83L4 21.41c.39.39.9.59 1.41.59.51 0 1.02-.2 1.41-.59l7.78-7.78 2.81-2.81c.8-.78.8-2.07 0-2.86zM5.41 20L4 18.59l7.72-7.72 1.47 1.35L5.41 20z\"/>\n",
              "  </svg>\n",
              "      </button>\n",
              "      \n",
              "  <style>\n",
              "    .colab-df-container {\n",
              "      display:flex;\n",
              "      flex-wrap:wrap;\n",
              "      gap: 12px;\n",
              "    }\n",
              "\n",
              "    .colab-df-convert {\n",
              "      background-color: #E8F0FE;\n",
              "      border: none;\n",
              "      border-radius: 50%;\n",
              "      cursor: pointer;\n",
              "      display: none;\n",
              "      fill: #1967D2;\n",
              "      height: 32px;\n",
              "      padding: 0 0 0 0;\n",
              "      width: 32px;\n",
              "    }\n",
              "\n",
              "    .colab-df-convert:hover {\n",
              "      background-color: #E2EBFA;\n",
              "      box-shadow: 0px 1px 2px rgba(60, 64, 67, 0.3), 0px 1px 3px 1px rgba(60, 64, 67, 0.15);\n",
              "      fill: #174EA6;\n",
              "    }\n",
              "\n",
              "    [theme=dark] .colab-df-convert {\n",
              "      background-color: #3B4455;\n",
              "      fill: #D2E3FC;\n",
              "    }\n",
              "\n",
              "    [theme=dark] .colab-df-convert:hover {\n",
              "      background-color: #434B5C;\n",
              "      box-shadow: 0px 1px 3px 1px rgba(0, 0, 0, 0.15);\n",
              "      filter: drop-shadow(0px 1px 2px rgba(0, 0, 0, 0.3));\n",
              "      fill: #FFFFFF;\n",
              "    }\n",
              "  </style>\n",
              "\n",
              "      <script>\n",
              "        const buttonEl =\n",
              "          document.querySelector('#df-4d92ded9-fdb6-4d22-83e3-2e2e94c281c2 button.colab-df-convert');\n",
              "        buttonEl.style.display =\n",
              "          google.colab.kernel.accessAllowed ? 'block' : 'none';\n",
              "\n",
              "        async function convertToInteractive(key) {\n",
              "          const element = document.querySelector('#df-4d92ded9-fdb6-4d22-83e3-2e2e94c281c2');\n",
              "          const dataTable =\n",
              "            await google.colab.kernel.invokeFunction('convertToInteractive',\n",
              "                                                     [key], {});\n",
              "          if (!dataTable) return;\n",
              "\n",
              "          const docLinkHtml = 'Like what you see? Visit the ' +\n",
              "            '<a target=\"_blank\" href=https://colab.research.google.com/notebooks/data_table.ipynb>data table notebook</a>'\n",
              "            + ' to learn more about interactive tables.';\n",
              "          element.innerHTML = '';\n",
              "          dataTable['output_type'] = 'display_data';\n",
              "          await google.colab.output.renderOutput(dataTable, element);\n",
              "          const docLink = document.createElement('div');\n",
              "          docLink.innerHTML = docLinkHtml;\n",
              "          element.appendChild(docLink);\n",
              "        }\n",
              "      </script>\n",
              "    </div>\n",
              "  </div>\n",
              "  "
            ]
          },
          "metadata": {},
          "execution_count": 14
        }
      ]
    },
    {
      "cell_type": "code",
      "source": [
        "df_dados.to_csv('dados_mercado_livre.csv', index=False)"
      ],
      "metadata": {
        "id": "qpnmkIXQDmPo"
      },
      "execution_count": 15,
      "outputs": []
    }
  ]
}